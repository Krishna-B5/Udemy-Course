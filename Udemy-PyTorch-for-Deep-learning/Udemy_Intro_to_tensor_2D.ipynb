{
  "nbformat": 4,
  "nbformat_minor": 0,
  "metadata": {
    "colab": {
      "name": "Udemy-Intro-to-tensor-2D.ipynb",
      "provenance": [],
      "collapsed_sections": []
    },
    "kernelspec": {
      "name": "python3",
      "display_name": "Python 3"
    }
  },
  "cells": [
    {
      "cell_type": "markdown",
      "metadata": {
        "id": "fBkTqt6Dx8zl",
        "colab_type": "text"
      },
      "source": [
        "**2D Tensor**"
      ]
    },
    {
      "cell_type": "code",
      "metadata": {
        "id": "g6utBOHgsn0O",
        "colab_type": "code",
        "colab": {}
      },
      "source": [
        "import torch"
      ],
      "execution_count": 0,
      "outputs": []
    },
    {
      "cell_type": "markdown",
      "metadata": {
        "id": "Bnas5o-bpnKj",
        "colab_type": "text"
      },
      "source": [
        "**1) Creating 2D Tensor** "
      ]
    },
    {
      "cell_type": "code",
      "metadata": {
        "id": "DsimqwQDpuEm",
        "colab_type": "code",
        "colab": {
          "base_uri": "https://localhost:8080/",
          "height": 35
        },
        "outputId": "02d27acc-5d93-4489-ad36-874a95d3d619"
      },
      "source": [
        "one_d = torch.arange(0,9)\n",
        "print(one_d)\n"
      ],
      "execution_count": 2,
      "outputs": [
        {
          "output_type": "stream",
          "text": [
            "tensor([0, 1, 2, 3, 4, 5, 6, 7, 8])\n"
          ],
          "name": "stdout"
        }
      ]
    },
    {
      "cell_type": "code",
      "metadata": {
        "id": "zW7p58LFtFym",
        "colab_type": "code",
        "colab": {
          "base_uri": "https://localhost:8080/",
          "height": 108
        },
        "outputId": "5df0d326-7133-4644-f2d8-4f512292d348"
      },
      "source": [
        "two_d = one_d.view(3,3)\n",
        "print(\"2D tensor :\\n\", two_d)\n",
        "print(\"To see the dimension : \", two_d.dim())"
      ],
      "execution_count": 3,
      "outputs": [
        {
          "output_type": "stream",
          "text": [
            "2D tensor :\n",
            " tensor([[0, 1, 2],\n",
            "        [3, 4, 5],\n",
            "        [6, 7, 8]])\n",
            "To see the dimension :  2\n"
          ],
          "name": "stdout"
        }
      ]
    },
    {
      "cell_type": "markdown",
      "metadata": {
        "id": "x0bm75l6txlc",
        "colab_type": "text"
      },
      "source": [
        "**To find the element in 2D tensor**"
      ]
    },
    {
      "cell_type": "code",
      "metadata": {
        "id": "KVlDDg0zt5GW",
        "colab_type": "code",
        "colab": {
          "base_uri": "https://localhost:8080/",
          "height": 54
        },
        "outputId": "10b1174c-7532-48e0-eb0e-5ae0088a992d"
      },
      "source": [
        "print(\"First element in 1st row and 1st col :\",two_d[0,0])\n",
        "print(\"Element from 2nd row and 3rd col     :\",two_d[1,2])"
      ],
      "execution_count": 4,
      "outputs": [
        {
          "output_type": "stream",
          "text": [
            "First element in 1st row and 1st col : tensor(0)\n",
            "Element from 2nd row and 3rd col     : tensor(5)\n"
          ],
          "name": "stdout"
        }
      ]
    },
    {
      "cell_type": "markdown",
      "metadata": {
        "id": "l3hT6Bh0u2rw",
        "colab_type": "text"
      },
      "source": [
        "**Creating 3D Tensor**"
      ]
    },
    {
      "cell_type": "code",
      "metadata": {
        "id": "6tG030l6u8Js",
        "colab_type": "code",
        "colab": {
          "base_uri": "https://localhost:8080/",
          "height": 235
        },
        "outputId": "ff85e2b4-e198-46be-e87c-ed009b9f7fb7"
      },
      "source": [
        "import numpy as np\n",
        "\n",
        "a1 = np.arange(18).reshape(3,3,2)\n",
        "print(a1)\n",
        "print(\"3rd Matrix 2nd row and 1st col :\",a1[2,1,0])"
      ],
      "execution_count": 18,
      "outputs": [
        {
          "output_type": "stream",
          "text": [
            "[[[ 0  1]\n",
            "  [ 2  3]\n",
            "  [ 4  5]]\n",
            "\n",
            " [[ 6  7]\n",
            "  [ 8  9]\n",
            "  [10 11]]\n",
            "\n",
            " [[12 13]\n",
            "  [14 15]\n",
            "  [16 17]]]\n",
            "3rd Matrix 2nd row and 1st col : 14\n"
          ],
          "name": "stdout"
        }
      ]
    },
    {
      "cell_type": "code",
      "metadata": {
        "id": "WqUFIj0NvMyn",
        "colab_type": "code",
        "colab": {
          "base_uri": "https://localhost:8080/",
          "height": 145
        },
        "outputId": "ac723cf5-ef3b-4788-a151-ddd47763c01d"
      },
      "source": [
        "three_d = torch.arange(18).view(2,3,3)\n",
        "print(\"3D tensor :\", three_d)"
      ],
      "execution_count": 13,
      "outputs": [
        {
          "output_type": "stream",
          "text": [
            "3D tensor : tensor([[[ 0,  1,  2],\n",
            "         [ 3,  4,  5],\n",
            "         [ 6,  7,  8]],\n",
            "\n",
            "        [[ 9, 10, 11],\n",
            "         [12, 13, 14],\n",
            "         [15, 16, 17]]])\n"
          ],
          "name": "stdout"
        }
      ]
    },
    {
      "cell_type": "code",
      "metadata": {
        "id": "XoJf5ABwCwSf",
        "colab_type": "code",
        "colab": {
          "base_uri": "https://localhost:8080/",
          "height": 35
        },
        "outputId": "c95b47c9-55c7-4d1d-c891-1ece7d1bdb2b"
      },
      "source": [
        "# Dimension\n",
        "print(\"Printing the dimension : \",three_d.dim())"
      ],
      "execution_count": 12,
      "outputs": [
        {
          "output_type": "stream",
          "text": [
            "Printing the dimension :  3\n"
          ],
          "name": "stdout"
        }
      ]
    },
    {
      "cell_type": "code",
      "metadata": {
        "id": "hZgzN8I5C7SN",
        "colab_type": "code",
        "colab": {
          "base_uri": "https://localhost:8080/",
          "height": 35
        },
        "outputId": "9ceda57b-0d29-469f-fdd5-c2b41aada67c"
      },
      "source": [
        "# Indexing the value\n",
        "print(\"Fetching the value from 1st matrix 2nd row 3rd col :\",three_d[0,1,2])"
      ],
      "execution_count": 15,
      "outputs": [
        {
          "output_type": "stream",
          "text": [
            "Fetching the value from 1st matrix 2nd row 3rd col : tensor(5)\n"
          ],
          "name": "stdout"
        }
      ]
    },
    {
      "cell_type": "code",
      "metadata": {
        "id": "wj1Gdv1pEJzF",
        "colab_type": "code",
        "colab": {
          "base_uri": "https://localhost:8080/",
          "height": 35
        },
        "outputId": "38650e65-3a34-4ced-b7d0-e2c168cea492"
      },
      "source": [
        "print(\"Value from 2nd matrix 3rd row 2nd col :\",three_d[1,2,1])"
      ],
      "execution_count": 16,
      "outputs": [
        {
          "output_type": "stream",
          "text": [
            "Value from 2nd matrix 3rd row 2nd col : tensor(16)\n"
          ],
          "name": "stdout"
        }
      ]
    },
    {
      "cell_type": "markdown",
      "metadata": {
        "id": "maZaGgCwIBh8",
        "colab_type": "text"
      },
      "source": [
        "**Slicing 3D Tensors**"
      ]
    },
    {
      "cell_type": "code",
      "metadata": {
        "id": "oUFp-uEhIGyl",
        "colab_type": "code",
        "colab": {
          "base_uri": "https://localhost:8080/",
          "height": 181
        },
        "outputId": "d0d00dfe-2bcd-4ca8-d9e0-85c11dfb0c68"
      },
      "source": [
        "x = torch.arange(18).view(3,2,3)\n",
        "print(\"3D Temsor :\",x)\n",
        "print(\"Prints the value '10' :\",x[1,1,1])"
      ],
      "execution_count": 20,
      "outputs": [
        {
          "output_type": "stream",
          "text": [
            "3D Temsor : tensor([[[ 0,  1,  2],\n",
            "         [ 3,  4,  5]],\n",
            "\n",
            "        [[ 6,  7,  8],\n",
            "         [ 9, 10, 11]],\n",
            "\n",
            "        [[12, 13, 14],\n",
            "         [15, 16, 17]]])\n",
            "Prints the value '10' : tensor(10)\n"
          ],
          "name": "stdout"
        }
      ]
    },
    {
      "cell_type": "code",
      "metadata": {
        "id": "ZLRRIt0ALECh",
        "colab_type": "code",
        "colab": {
          "base_uri": "https://localhost:8080/",
          "height": 72
        },
        "outputId": "314e6d85-b1de-461d-94fe-a997d0039fc9"
      },
      "source": [
        "# Slicing the 2 matrix\n",
        "print(\"Slicing the 2nd Matrix \\n :\",x[1,0:2,0:3])"
      ],
      "execution_count": 23,
      "outputs": [
        {
          "output_type": "stream",
          "text": [
            "Slicing the 2nd Matrix \n",
            " : tensor([[ 6,  7,  8],\n",
            "        [ 9, 10, 11]])\n"
          ],
          "name": "stdout"
        }
      ]
    },
    {
      "cell_type": "code",
      "metadata": {
        "id": "vMH_9HDiMP98",
        "colab_type": "code",
        "colab": {
          "base_uri": "https://localhost:8080/",
          "height": 126
        },
        "outputId": "cc3998fc-b8dd-407f-a20c-edb8d8bbaab3"
      },
      "source": [
        "print(x[1,0:2,0:2])\n",
        "print(x[1,0:2,1:3])\n",
        "print(\"13 and 14 \\n \",x[2,0:1,1:3])"
      ],
      "execution_count": 27,
      "outputs": [
        {
          "output_type": "stream",
          "text": [
            "tensor([[ 6,  7],\n",
            "        [ 9, 10]])\n",
            "tensor([[ 7,  8],\n",
            "        [10, 11]])\n",
            "13 and 14 \n",
            "  tensor([[13, 14]])\n"
          ],
          "name": "stdout"
        }
      ]
    },
    {
      "cell_type": "code",
      "metadata": {
        "id": "14-94agtMiSd",
        "colab_type": "code",
        "colab": {
          "base_uri": "https://localhost:8080/",
          "height": 54
        },
        "outputId": "c1e492ef-6199-4e1e-e146-48e03c434fb9"
      },
      "source": [
        "print(x[2,:,:])"
      ],
      "execution_count": 29,
      "outputs": [
        {
          "output_type": "stream",
          "text": [
            "tensor([[12, 13, 14],\n",
            "        [15, 16, 17]])\n"
          ],
          "name": "stdout"
        }
      ]
    },
    {
      "cell_type": "markdown",
      "metadata": {
        "id": "PyCeuCE2Nwkt",
        "colab_type": "text"
      },
      "source": [
        "**Matrix Multiplication**"
      ]
    },
    {
      "cell_type": "code",
      "metadata": {
        "id": "Iw90vHMNN1mM",
        "colab_type": "code",
        "colab": {
          "base_uri": "https://localhost:8080/",
          "height": 108
        },
        "outputId": "19237890-9f73-4bf4-cd83-4216d2885b52"
      },
      "source": [
        "mat_a = torch.tensor([0,3,5,5,5,2]).view(2,3)\n",
        "print(mat_a)\n",
        "mat_b = torch.tensor([3,4,3,-2,4,-2]).view(3,2)\n",
        "print(mat_b)"
      ],
      "execution_count": 32,
      "outputs": [
        {
          "output_type": "stream",
          "text": [
            "tensor([[0, 3, 5],\n",
            "        [5, 5, 2]])\n",
            "tensor([[ 3,  4],\n",
            "        [ 3, -2],\n",
            "        [ 4, -2]])\n"
          ],
          "name": "stdout"
        }
      ]
    },
    {
      "cell_type": "code",
      "metadata": {
        "id": "eW72SSLWOJkL",
        "colab_type": "code",
        "colab": {
          "base_uri": "https://localhost:8080/",
          "height": 54
        },
        "outputId": "f392b9c5-e753-4205-e53c-a7433e8a646b"
      },
      "source": [
        "torch.matmul(mat_a,mat_b)"
      ],
      "execution_count": 33,
      "outputs": [
        {
          "output_type": "execute_result",
          "data": {
            "text/plain": [
              "tensor([[ 29, -16],\n",
              "        [ 38,   6]])"
            ]
          },
          "metadata": {
            "tags": []
          },
          "execution_count": 33
        }
      ]
    },
    {
      "cell_type": "code",
      "metadata": {
        "id": "MakAQfEwOxAs",
        "colab_type": "code",
        "colab": {
          "base_uri": "https://localhost:8080/",
          "height": 54
        },
        "outputId": "961cdbeb-8bad-47f3-e5da-b2c813c1b0ff"
      },
      "source": [
        "mat_a @ mat_b"
      ],
      "execution_count": 34,
      "outputs": [
        {
          "output_type": "execute_result",
          "data": {
            "text/plain": [
              "tensor([[ 29, -16],\n",
              "        [ 38,   6]])"
            ]
          },
          "metadata": {
            "tags": []
          },
          "execution_count": 34
        }
      ]
    },
    {
      "cell_type": "code",
      "metadata": {
        "id": "Z4Gj_SVTO2SI",
        "colab_type": "code",
        "colab": {}
      },
      "source": [
        ""
      ],
      "execution_count": 0,
      "outputs": []
    }
  ]
}