{
  "nbformat": 4,
  "nbformat_minor": 0,
  "metadata": {
    "colab": {
      "name": "Udemy_Linear_Regression.ipynb",
      "provenance": [],
      "collapsed_sections": []
    },
    "kernelspec": {
      "name": "python3",
      "display_name": "Python 3"
    }
  },
  "cells": [
    {
      "cell_type": "markdown",
      "metadata": {
        "id": "PoyFt4wfOOUu",
        "colab_type": "text"
      },
      "source": [
        "**1) Making Prediction**"
      ]
    },
    {
      "cell_type": "code",
      "metadata": {
        "id": "vsBWJvSCOVhy",
        "colab_type": "code",
        "colab": {}
      },
      "source": [
        "# Example Program y = w * x + b for equation y. w and b is grad=true, x is an input using function\n",
        "import torch"
      ],
      "execution_count": 0,
      "outputs": []
    },
    {
      "cell_type": "code",
      "metadata": {
        "id": "QCTdl2jhQVU4",
        "colab_type": "code",
        "colab": {}
      },
      "source": [
        "w = torch.tensor(0.5153, requires_grad=True)\n",
        "b = torch.tensor(-0.4414, requires_grad=True)"
      ],
      "execution_count": 0,
      "outputs": []
    },
    {
      "cell_type": "code",
      "metadata": {
        "id": "eoC8vjSUQqSd",
        "colab_type": "code",
        "colab": {}
      },
      "source": [
        "def forward(x):\n",
        "  y = w * x + b\n",
        "  return y"
      ],
      "execution_count": 0,
      "outputs": []
    },
    {
      "cell_type": "code",
      "metadata": {
        "id": "rICxYUGrQ8Gi",
        "colab_type": "code",
        "colab": {
          "base_uri": "https://localhost:8080/",
          "height": 72
        },
        "outputId": "c14e6f0e-5f4c-479b-bdde-74f0ec105253"
      },
      "source": [
        "x = torch.tensor([[2.0],[7]])\n",
        "print(x.dim())\n",
        "forward(x)"
      ],
      "execution_count": 32,
      "outputs": [
        {
          "output_type": "stream",
          "text": [
            "2\n"
          ],
          "name": "stdout"
        },
        {
          "output_type": "execute_result",
          "data": {
            "text/plain": [
              "tensor([[0.5892],\n",
              "        [3.1657]], grad_fn=<AddBackward0>)"
            ]
          },
          "metadata": {
            "tags": []
          },
          "execution_count": 32
        }
      ]
    },
    {
      "cell_type": "markdown",
      "metadata": {
        "id": "52wfC8MVSEmj",
        "colab_type": "text"
      },
      "source": [
        "**Completed**"
      ]
    },
    {
      "cell_type": "markdown",
      "metadata": {
        "id": "0L7og5qKSO76",
        "colab_type": "text"
      },
      "source": [
        "**2) Linear class** "
      ]
    },
    {
      "cell_type": "markdown",
      "metadata": {
        "id": "dtwJOprhZpcK",
        "colab_type": "text"
      },
      "source": [
        "torch.nn.Module\n",
        "1) Base calss for all neural network modules\n",
        "2) Your models should all subclass this class\n",
        "3) Modules can also contain Modules allowing to nest in a tree structure"
      ]
    },
    {
      "cell_type": "code",
      "metadata": {
        "id": "a-m6nbNOSHAC",
        "colab_type": "code",
        "colab": {}
      },
      "source": [
        "import torch\n",
        "from torch.nn import Linear "
      ],
      "execution_count": 0,
      "outputs": []
    },
    {
      "cell_type": "code",
      "metadata": {
        "id": "3Hh7BC_MdLza",
        "colab_type": "code",
        "colab": {
          "base_uri": "https://localhost:8080/",
          "height": 72
        },
        "outputId": "d7a40d71-1ca2-4656-d4be-c013f6186982"
      },
      "source": [
        "torch.manual_seed(1) # Generates a random values for linear class\n",
        "model = Linear(in_features=1,out_features=1) # for every prediction make for our linear model for every single output there is a single input\n",
        "# model is an object\n",
        "print(model.bias, model.weight) # Bias and weight will be automatically set by manual_seed to the Linear(input(x),weight,bais)\n"
      ],
      "execution_count": 39,
      "outputs": [
        {
          "output_type": "stream",
          "text": [
            "Parameter containing:\n",
            "tensor([-0.4414], requires_grad=True) Parameter containing:\n",
            "tensor([[0.5153]], requires_grad=True)\n"
          ],
          "name": "stdout"
        }
      ]
    },
    {
      "cell_type": "code",
      "metadata": {
        "id": "PhoWBMkdetl3",
        "colab_type": "code",
        "colab": {
          "base_uri": "https://localhost:8080/",
          "height": 35
        },
        "outputId": "a7f927af-0521-4a9e-e2e0-1c24e0da4588"
      },
      "source": [
        "x = torch.tensor([2.0])\n",
        "print(model(x))"
      ],
      "execution_count": 40,
      "outputs": [
        {
          "output_type": "stream",
          "text": [
            "tensor([0.5891], grad_fn=<AddBackward0>)\n"
          ],
          "name": "stdout"
        }
      ]
    },
    {
      "cell_type": "markdown",
      "metadata": {
        "id": "r86_E4k96P_j",
        "colab_type": "text"
      },
      "source": [
        "**Completed**"
      ]
    },
    {
      "cell_type": "markdown",
      "metadata": {
        "id": "T1vTvOmvha9s",
        "colab_type": "text"
      },
      "source": [
        "**3) Custom Modules**"
      ]
    },
    {
      "cell_type": "code",
      "metadata": {
        "id": "wQUhtB6YftAg",
        "colab_type": "code",
        "colab": {}
      },
      "source": [
        "import torch.nn as nn"
      ],
      "execution_count": 0,
      "outputs": []
    },
    {
      "cell_type": "code",
      "metadata": {
        "id": "OAcF-DSS1nml",
        "colab_type": "code",
        "colab": {}
      },
      "source": [
        "class LR(nn.Module):                             # Base class of neural network\n",
        "  def __init__(self, input_size, output_size):   # constructor is automatically called when class object is created\n",
        "    super().__init__()                           # Calling the Base class\n",
        "    self.linear = nn.Linear(input_size,output_size) # Linear class (in_feature, out_feature, bais)\n",
        "  def forward(self, x):                             # forward function\n",
        "    pred = self.linear(x)\n",
        "    return pred"
      ],
      "execution_count": 0,
      "outputs": []
    },
    {
      "cell_type": "code",
      "metadata": {
        "id": "yClmNvzg1xVE",
        "colab_type": "code",
        "colab": {}
      },
      "source": [
        "torch.manual_seed(1)    # Genearte random values\n",
        "model = LR(1,1)         # creating object for class LR"
      ],
      "execution_count": 0,
      "outputs": []
    },
    {
      "cell_type": "code",
      "metadata": {
        "id": "acjOTi4n9Ki0",
        "colab_type": "code",
        "colab": {
          "base_uri": "https://localhost:8080/",
          "height": 35
        },
        "outputId": "55410145-29c1-4539-ab2c-b25c31f070bb"
      },
      "source": [
        "x = torch.tensor([2.0]) # x is an input passing to linear\n",
        "print(model.forward(x))"
      ],
      "execution_count": 16,
      "outputs": [
        {
          "output_type": "stream",
          "text": [
            "tensor([0.5891], grad_fn=<AddBackward0>)\n"
          ],
          "name": "stdout"
        }
      ]
    },
    {
      "cell_type": "markdown",
      "metadata": {
        "id": "ivlC2W3c6VgP",
        "colab_type": "text"
      },
      "source": [
        "**Completed**"
      ]
    }
  ]
}