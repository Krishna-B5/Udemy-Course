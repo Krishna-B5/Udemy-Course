{
  "nbformat": 4,
  "nbformat_minor": 0,
  "metadata": {
    "colab": {
      "name": "Udemy_Creating_Linear_Dataset.ipynb",
      "provenance": [],
      "collapsed_sections": []
    },
    "kernelspec": {
      "name": "python3",
      "display_name": "Python 3"
    }
  },
  "cells": [
    {
      "cell_type": "markdown",
      "metadata": {
        "id": "O4HsiZR-Y96r",
        "colab_type": "text"
      },
      "source": [
        "**Creating a Linear dataset and plotting in the graph using matplotlib**"
      ]
    },
    {
      "cell_type": "code",
      "metadata": {
        "id": "agx8S18OPFF_",
        "colab_type": "code",
        "colab": {}
      },
      "source": [
        "import torch\n",
        "import torch.nn as nn\n",
        "import matplotlib.pyplot as plt\n",
        "import numpy as np"
      ],
      "execution_count": 0,
      "outputs": []
    },
    {
      "cell_type": "markdown",
      "metadata": {
        "id": "ePrAbbB8ZNqs",
        "colab_type": "text"
      },
      "source": [
        "**Creating Linear Dataset**"
      ]
    },
    {
      "cell_type": "code",
      "metadata": {
        "id": "GU1EhPCVPcXX",
        "colab_type": "code",
        "outputId": "fd293baf-898d-438f-b0c8-306bde9c7033",
        "colab": {
          "base_uri": "https://localhost:8080/",
          "height": 285
        }
      },
      "source": [
        "# Creating Dataset \n",
        "x = torch.randn(100, 1) * 10\n",
        "y = x + 3 * torch.randn(100, 1)\n",
        "plt.plot(x.numpy(),y.numpy(),'o') # tensor datatype should be converted to numpy array when passing to matplotlib"
      ],
      "execution_count": 2,
      "outputs": [
        {
          "output_type": "execute_result",
          "data": {
            "text/plain": [
              "[<matplotlib.lines.Line2D at 0x7fc40a6281d0>]"
            ]
          },
          "metadata": {
            "tags": []
          },
          "execution_count": 2
        },
        {
          "output_type": "display_data",
          "data": {
            "image/png": "[encoded data removed]",
            "text/plain": [
              "<Figure size 432x288 with 1 Axes>"
            ]
          },
          "metadata": {
            "tags": [],
            "needs_background": "light"
          }
        }
      ]
    },
    {
      "cell_type": "code",
      "metadata": {
        "id": "__ceomdAZZ7l",
        "colab_type": "code",
        "colab": {}
      },
      "source": [
        "class LR(nn.Module):\n",
        "  def __init__(self, input_size, output_size):\n",
        "    super().__init__()\n",
        "    self.linear = nn.Linear(input_size,output_size)\n",
        "  def forward(self, x):\n",
        "    pred = self.linear(x)\n",
        "    return pred"
      ],
      "execution_count": 0,
      "outputs": []
    },
    {
      "cell_type": "code",
      "metadata": {
        "id": "ocWonsnbbVzy",
        "colab_type": "code",
        "colab": {}
      },
      "source": [
        "torch.manual_seed(1)\n",
        "model = LR(1,1)"
      ],
      "execution_count": 0,
      "outputs": []
    },
    {
      "cell_type": "markdown",
      "metadata": {
        "id": "ZJptZsvWZWR6",
        "colab_type": "text"
      },
      "source": [
        "**Fetching the parameter(Weight and Bais) from the linear class**"
      ]
    },
    {
      "cell_type": "code",
      "metadata": {
        "id": "nXcEazc8b7bj",
        "colab_type": "code",
        "colab": {}
      },
      "source": [
        "[w, b] = model.parameters()            # Taking the parameter weight and bias from the linear class\n",
        "def get_params():\n",
        "  return (w[0][0].item(), b[0].item())"
      ],
      "execution_count": 0,
      "outputs": []
    },
    {
      "cell_type": "code",
      "metadata": {
        "id": "l7urvgdRdxLF",
        "colab_type": "code",
        "colab": {}
      },
      "source": [
        "# fetching the parameter weight and bias and plotting in graph\n",
        "def plot_fit(title):\n",
        "  plt.title = title\n",
        "  w1, b1 = get_params()\n",
        "  x1 = np.array([-30,30])\n",
        "  y1 = w1 * x1 + b1\n",
        "  plt.plot(x1,y1,'r')    \n",
        "  plt.scatter(x,y)       # Dataset\n",
        "  plt.xlabel('X_data')\n",
        "  plt.ylabel('Y_data')\n",
        "  plt.show()"
      ],
      "execution_count": 0,
      "outputs": []
    },
    {
      "cell_type": "code",
      "metadata": {
        "id": "o5ndbb1CegVs",
        "colab_type": "code",
        "outputId": "81c594aa-c629-43da-e62c-770e3ad14a89",
        "colab": {
          "base_uri": "https://localhost:8080/",
          "height": 281
        }
      },
      "source": [
        "plot_fit('Initial Model') #calling the initial model"
      ],
      "execution_count": 7,
      "outputs": [
        {
          "output_type": "display_data",
          "data": {
            "image/png": "[encoded data removed]",
            "text/plain": [
              "<Figure size 432x288 with 1 Axes>"
            ]
          },
          "metadata": {
            "tags": [],
            "needs_background": "light"
          }
        }
      ]
    },
    {
      "cell_type": "markdown",
      "metadata": {
        "id": "felNykp1gsUi",
        "colab_type": "text"
      },
      "source": [
        "**Loss Function**"
      ]
    },
    {
      "cell_type": "code",
      "metadata": {
        "id": "yxfU-s23emAs",
        "colab_type": "code",
        "colab": {}
      },
      "source": [
        "criterion = nn.MSELoss()\n",
        "optimizer = torch.optim.SGD(model.parameters(), lr = 0.01)"
      ],
      "execution_count": 0,
      "outputs": []
    },
    {
      "cell_type": "markdown",
      "metadata": {
        "id": "CsXkIN19oZLq",
        "colab_type": "text"
      },
      "source": [
        "**Epochs**"
      ]
    },
    {
      "cell_type": "code",
      "metadata": {
        "id": "a3m6KnjHbdBp",
        "colab_type": "code",
        "colab": {
          "base_uri": "https://localhost:8080/",
          "height": 1000
        },
        "outputId": "f2c958e8-d331-487c-e0fd-932af9a1eb9f"
      },
      "source": [
        "epochs = 100\n",
        "losses = []\n",
        "for i in range(epochs):\n",
        "  y_pred = model.forward(x)\n",
        "  loss = criterion(y_pred, y)\n",
        "  print(\" Epochs :\", i, \"Loss :\", loss.item())\n",
        "  losses.append(loss)\n",
        "  optimizer.zero_grad()\n",
        "  loss.backward()\n",
        "  optimizer.step()\n"
      ],
      "execution_count": 9,
      "outputs": [
        {
          "output_type": "stream",
          "text": [
            " Epochs : 0 Loss : 35.47582244873047\n",
            " Epochs : 1 Loss : 24.437463760375977\n",
            " Epochs : 2 Loss : 18.183483123779297\n",
            " Epochs : 3 Loss : 14.637982368469238\n",
            " Epochs : 4 Loss : 12.625865936279297\n",
            " Epochs : 5 Loss : 11.481949806213379\n",
            " Epochs : 6 Loss : 10.829686164855957\n",
            " Epochs : 7 Loss : 10.455918312072754\n",
            " Epochs : 8 Loss : 10.239975929260254\n",
            " Epochs : 9 Loss : 10.113544464111328\n",
            " Epochs : 10 Loss : 10.037951469421387\n",
            " Epochs : 11 Loss : 9.991291046142578\n",
            " Epochs : 12 Loss : 9.961163520812988\n",
            " Epochs : 13 Loss : 9.940542221069336\n",
            " Epochs : 14 Loss : 9.925442695617676\n",
            " Epochs : 15 Loss : 9.913603782653809\n",
            " Epochs : 16 Loss : 9.903742790222168\n",
            " Epochs : 17 Loss : 9.895123481750488\n",
            " Epochs : 18 Loss : 9.8873291015625\n",
            " Epochs : 19 Loss : 9.88011646270752\n",
            " Epochs : 20 Loss : 9.873344421386719\n",
            " Epochs : 21 Loss : 9.866927146911621\n",
            " Epochs : 22 Loss : 9.86081314086914\n",
            " Epochs : 23 Loss : 9.85496997833252\n",
            " Epochs : 24 Loss : 9.849372863769531\n",
            " Epochs : 25 Loss : 9.844006538391113\n",
            " Epochs : 26 Loss : 9.838858604431152\n",
            " Epochs : 27 Loss : 9.833914756774902\n",
            " Epochs : 28 Loss : 9.829169273376465\n",
            " Epochs : 29 Loss : 9.824612617492676\n",
            " Epochs : 30 Loss : 9.820235252380371\n",
            " Epochs : 31 Loss : 9.816033363342285\n",
            " Epochs : 32 Loss : 9.811997413635254\n",
            " Epochs : 33 Loss : 9.808121681213379\n",
            " Epochs : 34 Loss : 9.804398536682129\n",
            " Epochs : 35 Loss : 9.800821304321289\n",
            " Epochs : 36 Loss : 9.797386169433594\n",
            " Epochs : 37 Loss : 9.794089317321777\n",
            " Epochs : 38 Loss : 9.790921211242676\n",
            " Epochs : 39 Loss : 9.78787899017334\n",
            " Epochs : 40 Loss : 9.784955024719238\n",
            " Epochs : 41 Loss : 9.782149314880371\n",
            " Epochs : 42 Loss : 9.779452323913574\n",
            " Epochs : 43 Loss : 9.776864051818848\n",
            " Epochs : 44 Loss : 9.77437686920166\n",
            " Epochs : 45 Loss : 9.771988868713379\n",
            " Epochs : 46 Loss : 9.769696235656738\n",
            " Epochs : 47 Loss : 9.76749324798584\n",
            " Epochs : 48 Loss : 9.765376091003418\n",
            " Epochs : 49 Loss : 9.76334285736084\n",
            " Epochs : 50 Loss : 9.761390686035156\n",
            " Epochs : 51 Loss : 9.759515762329102\n",
            " Epochs : 52 Loss : 9.757715225219727\n",
            " Epochs : 53 Loss : 9.755987167358398\n",
            " Epochs : 54 Loss : 9.754323959350586\n",
            " Epochs : 55 Loss : 9.752730369567871\n",
            " Epochs : 56 Loss : 9.751198768615723\n",
            " Epochs : 57 Loss : 9.749724388122559\n",
            " Epochs : 58 Loss : 9.748311996459961\n",
            " Epochs : 59 Loss : 9.746954917907715\n",
            " Epochs : 60 Loss : 9.745651245117188\n",
            " Epochs : 61 Loss : 9.74439811706543\n",
            " Epochs : 62 Loss : 9.743195533752441\n",
            " Epochs : 63 Loss : 9.742040634155273\n",
            " Epochs : 64 Loss : 9.740931510925293\n",
            " Epochs : 65 Loss : 9.739866256713867\n",
            " Epochs : 66 Loss : 9.738842964172363\n",
            " Epochs : 67 Loss : 9.737859725952148\n",
            " Epochs : 68 Loss : 9.73691463470459\n",
            " Epochs : 69 Loss : 9.736007690429688\n",
            " Epochs : 70 Loss : 9.735136985778809\n",
            " Epochs : 71 Loss : 9.734299659729004\n",
            " Epochs : 72 Loss : 9.733497619628906\n",
            " Epochs : 73 Loss : 9.7327241897583\n",
            " Epochs : 74 Loss : 9.731985092163086\n",
            " Epochs : 75 Loss : 9.731271743774414\n",
            " Epochs : 76 Loss : 9.730589866638184\n",
            " Epochs : 77 Loss : 9.72993278503418\n",
            " Epochs : 78 Loss : 9.729303359985352\n",
            " Epochs : 79 Loss : 9.7286958694458\n",
            " Epochs : 80 Loss : 9.728113174438477\n",
            " Epochs : 81 Loss : 9.727555274963379\n",
            " Epochs : 82 Loss : 9.727019309997559\n",
            " Epochs : 83 Loss : 9.7265043258667\n",
            " Epochs : 84 Loss : 9.726008415222168\n",
            " Epochs : 85 Loss : 9.725533485412598\n",
            " Epochs : 86 Loss : 9.725076675415039\n",
            " Epochs : 87 Loss : 9.724638938903809\n",
            " Epochs : 88 Loss : 9.72421646118164\n",
            " Epochs : 89 Loss : 9.723811149597168\n",
            " Epochs : 90 Loss : 9.723424911499023\n",
            " Epochs : 91 Loss : 9.723051071166992\n",
            " Epochs : 92 Loss : 9.722691535949707\n",
            " Epochs : 93 Loss : 9.7223482131958\n",
            " Epochs : 94 Loss : 9.722016334533691\n",
            " Epochs : 95 Loss : 9.721700668334961\n",
            " Epochs : 96 Loss : 9.721393585205078\n",
            " Epochs : 97 Loss : 9.721102714538574\n",
            " Epochs : 98 Loss : 9.720821380615234\n",
            " Epochs : 99 Loss : 9.720549583435059\n"
          ],
          "name": "stdout"
        }
      ]
    },
    {
      "cell_type": "code",
      "metadata": {
        "id": "lZ7Bsnohj7ww",
        "colab_type": "code",
        "colab": {
          "base_uri": "https://localhost:8080/",
          "height": 297
        },
        "outputId": "da268c5c-cbe8-4067-e3cb-01345d934b5c"
      },
      "source": [
        "plt.plot(range(epochs), losses)\n",
        "plt.ylabel('Loss')\n",
        "plt.xlabel('Epochs')"
      ],
      "execution_count": 11,
      "outputs": [
        {
          "output_type": "execute_result",
          "data": {
            "text/plain": [
              "Text(0.5, 0, 'Epochs')"
            ]
          },
          "metadata": {
            "tags": []
          },
          "execution_count": 11
        },
        {
          "output_type": "display_data",
          "data": {
            "image/png": "[encoded data removed]",
            "text/plain": [
              "<Figure size 432x288 with 1 Axes>"
            ]
          },
          "metadata": {
            "tags": [],
            "needs_background": "light"
          }
        }
      ]
    },
    {
      "cell_type": "code",
      "metadata": {
        "id": "23m_z1bUn0kf",
        "colab_type": "code",
        "colab": {}
      },
      "source": [
        ""
      ],
      "execution_count": 0,
      "outputs": []
    }
  ]
}